{
  "nbformat": 4,
  "nbformat_minor": 0,
  "metadata": {
    "colab": {
      "provenance": [],
      "authorship_tag": "ABX9TyMtfApNFnHzKyATKeBb4aB1",
      "include_colab_link": true
    },
    "kernelspec": {
      "name": "python3",
      "display_name": "Python 3"
    },
    "language_info": {
      "name": "python"
    }
  },
  "cells": [
    {
      "cell_type": "markdown",
      "metadata": {
        "id": "view-in-github",
        "colab_type": "text"
      },
      "source": [
        "<a href=\"https://colab.research.google.com/github/Diegosup/Genetic-Algorithm-TSP/blob/main/GA_TSP.ipynb\" target=\"_parent\"><img src=\"https://colab.research.google.com/assets/colab-badge.svg\" alt=\"Open In Colab\"/></a>"
      ]
    },
    {
      "cell_type": "code",
      "execution_count": null,
      "metadata": {
        "id": "64uafvv7hhBp",
        "colab": {
          "base_uri": "https://localhost:8080/"
        },
        "outputId": "74c3dd93-841b-4d2f-f135-77564c7c4c34"
      },
      "outputs": [
        {
          "output_type": "stream",
          "name": "stderr",
          "text": [
            "<ipython-input-1-8014618d567b>:6: MatplotlibDeprecationWarning: The seaborn styles shipped by Matplotlib are deprecated since 3.6, as they no longer correspond to the styles shipped by seaborn. However, they will remain available as 'seaborn-v0_8-<style>'. Alternatively, directly use the seaborn API instead.\n",
            "  plt.style.use(\"seaborn\")\n"
          ]
        }
      ],
      "source": [
        "#IMPORTS\n",
        "import numpy as np\n",
        "import matplotlib.pyplot as plt\n",
        "%matplotlib inline\n",
        "%config InlineBackend.figure_format = 'svg'\n",
        "plt.style.use(\"seaborn\")\n",
        "np.random.seed(42)"
      ]
    },
    {
      "cell_type": "code",
      "source": [
        "# Generating a list of coordenades representing each city\n",
        "cities=[0,1,2,3,4,5,6,7,8,9,10,11]\n",
        "adjacency_mat_time = np.asarray( \n",
        "[[0,0,0,0,136,0,136,0,0,0,0,0],[0,0,364,120,105,0,0,0,0,0,0,0],[0,235,0,0,0,232,0,0,0,0,0,0],[0,120,0,0,0,120,0,0,0,0,0,0],\n",
        "[136,105,0,0,0,82,0,0,0,0,0,0],[0,0,232,120,0,0,480,0,454,0,0,0],[136,0,0,0,82,480,0,112,0,225,390,0],[0,0,0,0,0,0,112,0,176,0,200,0],\n",
        "[0,0,0,0,0,454,0,176,0,0,0,168],[0,0,0,0,0,0,225,0,0,0,150,0],[0,0,0,0,0,0,390,200,0,150,0,0],[0,0,0,0,0,0,0,0,168,0,0,0]])\n",
        "\n",
        "adjacency_mat_cost = np.asarray([[0,0,0,0,98,0,98,0,0,0,0,0],[0,0,235,40,48,0,0,0,0,0,0,0],[0,235,0,0,0,125,0,0,0,0,0,0],\n",
        "[0,40,0,0,0,40,0,0,0,0,0,0],[98,48,0,0,0,80,0,0,0,0,0,0],[0,0,125,40,0,0,345,0,240,0,0,0],\n",
        "[98,0,0,0,80,345,0,185,0,380,400,0],[0,0,0,0,0,0,185,0,180,0,320,0],[0,0,0,0,0,240,0,180,0,0,0,125],\n",
        "[0,0,0,0,0,0,380,0,0,0,98,0],[0,0,0,0,0,0,400,320,0,98,0,0],[0,0,0,0,0,0,0,0,125,0,0,0]])\n",
        "name_cities = np.array(['LONDON','AMSTERDAN','BERLIN','COLOGNE','BRUSSELS','FRANKFURT','PARIS','LYON','MILAN','MADRID','BARCELONA','ROME'])"
      ],
      "metadata": {
        "id": "wAmDL2rshzEP"
      },
      "execution_count": null,
      "outputs": []
    },
    {
      "cell_type": "code",
      "source": [
        "class Population():\n",
        "    def __init__(self, bag, adjacency_mat):\n",
        "        self.bag = bag\n",
        "        self.parents = []\n",
        "        self.score = 0\n",
        "        self.time=0\n",
        "        self.best = None\n",
        "        self.adjacency_mat = adjacency_mat"
      ],
      "metadata": {
        "id": "KOSqhTcUuwB0"
      },
      "execution_count": null,
      "outputs": []
    },
    {
      "cell_type": "code",
      "source": [
        "def is_valid_path(path, adjacency_matrix):\n",
        "    # Get matrix dimenssions\n",
        "    n = len(adjacency_matrix)\n",
        "    # Veery that the path has at least two nodes\n",
        "    if len(path) < 2:\n",
        "        return False\n",
        "    # Verify any existing nodess in the adjacency matrix\n",
        "    if not all(node in range(n) for node in path):\n",
        "        return False\n",
        "    for i in range(len(path) - 1):\n",
        "        node1 = path[i]\n",
        "        node2 = path[i + 1]\n",
        "        if adjacency_matrix[node1][node2] == 0:\n",
        "            return False\n",
        "    # Return when the given path is valid\n",
        "    return True"
      ],
      "metadata": {
        "id": "6_-ujB5t6NOA"
      },
      "execution_count": null,
      "outputs": []
    },
    {
      "cell_type": "code",
      "source": [
        "def init_population(cities, adjacency_matrix, n_population, path_length):\n",
        "    n = len(adjacency_matrix)\n",
        "    population = []\n",
        "    while len(population) < n_population:\n",
        "        path = [np.random.choice(cities)]\n",
        "        visited_nodes = [False] * n\n",
        "        visited_nodes[path[0]] = True\n",
        "        while len(path) < path_length:\n",
        "            neighbors = [node for node in range(n) if adjacency_matrix[path[-1]][node] != 0 and not visited_nodes[node]]\n",
        "            if not neighbors:\n",
        "                break\n",
        "            next_node = np.random.choice(neighbors)\n",
        "            path.append(next_node)\n",
        "            visited_nodes[next_node] = True\n",
        "        if len(path) < path_length:\n",
        "            path += [np.random.choice(cities) for _ in range(path_length - len(path))]\n",
        "        elif len(path) > path_length:\n",
        "            path = path[:path_length]\n",
        "        if is_valid_path(path, adjacency_matrix):\n",
        "            population.append(path)\n",
        "    return Population(np.asarray(population), adjacency_matrix)\n"
      ],
      "metadata": {
        "id": "n_UGSEfpmg3c"
      },
      "execution_count": null,
      "outputs": []
    },
    {
      "cell_type": "code",
      "source": [
        "pop = init_population(cities, adjacency_mat_cost, 5,12)\n",
        "pop.bag"
      ],
      "metadata": {
        "colab": {
          "base_uri": "https://localhost:8080/"
        },
        "id": "-HUOwqscJZ9F",
        "outputId": "e766962a-3e5e-4359-db8f-2dbdcdf17ef3"
      },
      "execution_count": null,
      "outputs": [
        {
          "output_type": "execute_result",
          "data": {
            "text/plain": [
              "array([[ 5,  8,  7,  6,  0,  4,  1,  3,  5,  6, 10,  9],\n",
              "       [11,  8,  7, 10,  9,  6,  0,  4,  5,  3,  1,  2],\n",
              "       [11,  8,  5,  2,  1,  4,  0,  6,  7, 10,  9,  6],\n",
              "       [ 9, 10,  7,  8,  5,  3,  1,  4,  0,  6,  7, 10],\n",
              "       [ 8,  7, 10,  9,  6,  4,  1,  3,  5,  2,  5,  8]])"
            ]
          },
          "metadata": {},
          "execution_count": 16
        }
      ]
    },
    {
      "cell_type": "code",
      "source": [
        "def fitness(self, chromosome):\n",
        "    return sum(\n",
        "        [\n",
        "            self.adjacency_mat[chromosome[i], chromosome[i + 1]]\n",
        "            for i in range(len(chromosome) - 1)\n",
        "        ]\n",
        "    )\n",
        "\n",
        "Population.fitness = fitness"
      ],
      "metadata": {
        "id": "EI8UMjRdJ2ug"
      },
      "execution_count": null,
      "outputs": []
    },
    {
      "cell_type": "code",
      "source": [
        "def fitnessT(self, chromosome):\n",
        "    return sum(\n",
        "        [\n",
        "            adjacency_mat_time[chromosome[i], chromosome[i + 1]]\n",
        "            for i in range(len(chromosome) - 1)\n",
        "        ]\n",
        "    )\n",
        "\n",
        "Population.fitnessT = fitnessT"
      ],
      "metadata": {
        "id": "FIbB_PVc6ufO"
      },
      "execution_count": null,
      "outputs": []
    },
    {
      "cell_type": "code",
      "source": [
        "def evaluate(self):\n",
        "    distances = np.asarray(\n",
        "        [self.fitness(chromosome) for chromosome in self.bag]\n",
        "    )\n",
        "    time = np.asarray(\n",
        "        [self.fitnessT(chromosome) for chromosome in self.bag]\n",
        "    )\n",
        "\n",
        "    valid_indices = np.where(time <= 4320)[0]  # Get indices where time is <= 4320\n",
        "    if len(valid_indices) > 0:\n",
        "        valid_distances = distances[valid_indices]\n",
        "        self.score = np.min(valid_distances)\n",
        "        best_index = valid_indices[valid_distances.tolist().index(self.score)]\n",
        "        self.time=time[best_index]\n",
        "        self.best = self.bag[best_index]\n",
        "    else:\n",
        "        self.score = np.inf  # Set score to infinity if there are no valid solutions\n",
        "\n",
        "    self.best = self.bag[distances.tolist().index(self.score)]\n",
        "    self.parents.append(self.best)\n",
        "    if False in (distances[0] == distances):\n",
        "        distances = np.max(distances) - distances\n",
        "    return distances / np.sum(distances)\n",
        "    \n",
        "Population.evaluate = evaluate"
      ],
      "metadata": {
        "id": "gchWEtmoKH98"
      },
      "execution_count": null,
      "outputs": []
    },
    {
      "cell_type": "code",
      "source": [
        "pop.evaluate()"
      ],
      "metadata": {
        "colab": {
          "base_uri": "https://localhost:8080/"
        },
        "id": "I2BiO36VKTzp",
        "outputId": "a6ece308-e3d8-4d68-f604-952d33175a6a"
      },
      "execution_count": null,
      "outputs": [
        {
          "output_type": "execute_result",
          "data": {
            "text/plain": [
              "array([0.18018018, 0.25825826, 0.        , 0.28528529, 0.27627628])"
            ]
          },
          "metadata": {},
          "execution_count": 20
        }
      ]
    },
    {
      "cell_type": "code",
      "source": [
        "pop.best"
      ],
      "metadata": {
        "colab": {
          "base_uri": "https://localhost:8080/"
        },
        "id": "tJNICN4uLi5P",
        "outputId": "406ca5d7-b953-4097-ef8f-6a8f9072c12c"
      },
      "execution_count": null,
      "outputs": [
        {
          "output_type": "execute_result",
          "data": {
            "text/plain": [
              "array([ 9, 10,  7,  8,  5,  3,  1,  4,  0,  6,  7, 10])"
            ]
          },
          "metadata": {},
          "execution_count": 21
        }
      ]
    },
    {
      "cell_type": "code",
      "source": [
        "pop.score"
      ],
      "metadata": {
        "colab": {
          "base_uri": "https://localhost:8080/"
        },
        "id": "MMlnlY04L-8o",
        "outputId": "16f1de66-78fd-462a-df21-dbfa66efbf6d"
      },
      "execution_count": null,
      "outputs": [
        {
          "output_type": "execute_result",
          "data": {
            "text/plain": [
              "1667"
            ]
          },
          "metadata": {},
          "execution_count": 22
        }
      ]
    },
    {
      "cell_type": "code",
      "source": [
        "hours, minutes = divmod(pop.time, 60)\n",
        "print(f'Total time: {hours} hours {minutes} minutes')"
      ],
      "metadata": {
        "colab": {
          "base_uri": "https://localhost:8080/"
        },
        "id": "-CTJ4jcAuyy0",
        "outputId": "0cf6f220-d17e-485f-f3a5-4b9fda289fbd"
      },
      "execution_count": null,
      "outputs": [
        {
          "output_type": "stream",
          "name": "stdout",
          "text": [
            "Total time: 31 hours 49 minutes\n"
          ]
        }
      ]
    },
    {
      "cell_type": "code",
      "source": [
        "def select(self, k=4):\n",
        "    fit = self.evaluate()\n",
        "    while len(self.parents) < k:\n",
        "        idx = np.random.randint(0, len(fit))\n",
        "        if fit[idx] > np.random.rand():\n",
        "            self.parents.append(self.bag[idx])\n",
        "    self.parents = np.asarray(self.parents)\n",
        "\n",
        "Population.select = select"
      ],
      "metadata": {
        "id": "J1KSKySSMVhF"
      },
      "execution_count": null,
      "outputs": []
    },
    {
      "cell_type": "code",
      "source": [
        "pop.select()\n",
        "pop.parents"
      ],
      "metadata": {
        "colab": {
          "base_uri": "https://localhost:8080/"
        },
        "id": "pdxdQKAQMWg0",
        "outputId": "bf0a0b03-3f69-47ae-ea18-3c7a548a78e9"
      },
      "execution_count": null,
      "outputs": [
        {
          "output_type": "execute_result",
          "data": {
            "text/plain": [
              "array([[ 9, 10,  7,  8,  5,  3,  1,  4,  0,  6,  7, 10],\n",
              "       [ 9, 10,  7,  8,  5,  3,  1,  4,  0,  6,  7, 10],\n",
              "       [ 9, 10,  7,  8,  5,  3,  1,  4,  0,  6,  7, 10],\n",
              "       [ 8,  7, 10,  9,  6,  4,  1,  3,  5,  2,  5,  8]])"
            ]
          },
          "metadata": {},
          "execution_count": 25
        }
      ]
    },
    {
      "cell_type": "code",
      "source": [
        "def swap(chromosome):\n",
        "    a, b = np.random.choice(len(chromosome), 2)\n",
        "    chromosome[a], chromosome[b] = (\n",
        "        chromosome[b],\n",
        "        chromosome[a],\n",
        "    )\n",
        "    return chromosome"
      ],
      "metadata": {
        "id": "hF1MdRbQMnW1"
      },
      "execution_count": null,
      "outputs": []
    },
    {
      "cell_type": "code",
      "source": [
        "def crossover(self, p_cross=0.1):\n",
        "    children = []\n",
        "    count, size = self.parents.shape\n",
        "    for _ in range(len(self.bag)):\n",
        "        if np.random.rand() > p_cross:\n",
        "            children.append(\n",
        "                list(self.parents[np.random.randint(count, size=1)[0]])\n",
        "            )\n",
        "        else:\n",
        "            parent1, parent2 = self.parents[\n",
        "                np.random.randint(count, size=2), :\n",
        "            ]\n",
        "            idx = np.random.choice(range(size), size=2, replace=False)\n",
        "            start, end = min(idx), max(idx)\n",
        "            child = [None] * size\n",
        "            for i in range(start, end + 1, 1):\n",
        "                child[i] = parent1[i]\n",
        "            pointer = 0\n",
        "            for i in range(size):\n",
        "                if child[i] is None:\n",
        "                    while parent2[pointer] in child:\n",
        "                        pointer += 1\n",
        "                    child[i] = parent2[pointer]\n",
        "            children.append(child)\n",
        "    return children\n",
        "\n",
        "Population.crossover = crossover"
      ],
      "metadata": {
        "id": "VNxqTTkRNM5A"
      },
      "execution_count": null,
      "outputs": []
    },
    {
      "cell_type": "code",
      "source": [
        "def mutate(self, p_cross=0.1, p_mut=0.1):\n",
        "    next_bag = []\n",
        "    children = self.crossover(p_cross)\n",
        "    for child in children:\n",
        "        if np.random.rand() < p_mut:\n",
        "            next_bag.append(swap(child))\n",
        "        else:\n",
        "            next_bag.append(child)\n",
        "    return next_bag\n",
        "    \n",
        "Population.mutate = mutate"
      ],
      "metadata": {
        "id": "jCfml4ENNUhQ"
      },
      "execution_count": null,
      "outputs": []
    },
    {
      "cell_type": "code",
      "source": [
        "pop.mutate()"
      ],
      "metadata": {
        "colab": {
          "base_uri": "https://localhost:8080/"
        },
        "id": "P3XsBRM9NWEb",
        "outputId": "9375c82b-bec1-4bb7-ddb5-c07886150b93"
      },
      "execution_count": null,
      "outputs": [
        {
          "output_type": "execute_result",
          "data": {
            "text/plain": [
              "[[9, 10, 7, 8, 5, 3, 1, 4, 0, 7, 6, 10],\n",
              " [9, 10, 7, 8, 5, 3, 1, 4, 0, 6, 7, 10],\n",
              " [8, 7, 10, 9, 6, 4, 1, 3, 5, 2, 5, 8],\n",
              " [9, 10, 7, 8, 5, 3, 1, 4, 0, 6, 7, 10],\n",
              " [8, 7, 10, 9, 6, 4, 1, 3, 5, 2, 5, 8]]"
            ]
          },
          "metadata": {},
          "execution_count": 29
        }
      ]
    },
    {
      "cell_type": "code",
      "source": [
        "def genetic_algorithm(\n",
        "    cities,\n",
        "    adjacency_mat,\n",
        "    n_population=5,\n",
        "    n_iter=5,\n",
        "    selectivity=0.15,\n",
        "    p_cross=0.5,\n",
        "    p_mut=0.1,\n",
        "    print_interval=100,\n",
        "    return_history=False,\n",
        "    verbose=False,\n",
        "):\n",
        "    pop = init_population(cities, adjacency_mat_time, 5,12)\n",
        "    best = pop.best\n",
        "    score = float(\"inf\")\n",
        "    history = []\n",
        "    for i in range(n_iter):\n",
        "        pop.select(n_population * selectivity)\n",
        "        history.append(pop.score)\n",
        "        if verbose:\n",
        "            hours, minutes = divmod(pop.time, 60)\n",
        "            print(f\"Generation {i}: {pop.score} , Total time: {hours} hours {minutes} minutes\")\n",
        "        elif i % print_interval == 0:\n",
        "            hours, minutes = divmod(pop.time, 60)\n",
        "            print(f\"Generation {i}: {pop.score} , Total time: {hours} hours {minutes} minutes\")\n",
        "        if pop.score < score:\n",
        "            best = pop.best\n",
        "            score = pop.score\n",
        "        children = pop.mutate(p_cross, p_mut)\n",
        "        pop = Population(children, pop.adjacency_mat)\n",
        "    if return_history:\n",
        "        return best, history\n",
        "    return best"
      ],
      "metadata": {
        "id": "pe7tfVx-NhXO"
      },
      "execution_count": null,
      "outputs": []
    },
    {
      "cell_type": "code",
      "source": [
        "genetic_algorithm(cities, adjacency_mat_time, verbose=True)"
      ],
      "metadata": {
        "colab": {
          "base_uri": "https://localhost:8080/"
        },
        "id": "GXKgIIfINml3",
        "outputId": "ff36fd96-57f8-4845-b796-1eb575ea5de5"
      },
      "execution_count": null,
      "outputs": [
        {
          "output_type": "stream",
          "name": "stdout",
          "text": [
            "Generation 0: 1768 , Total time: 29 hours 28 minutes\n",
            "Generation 1: 1768 , Total time: 29 hours 28 minutes\n",
            "Generation 2: 1768 , Total time: 29 hours 28 minutes\n",
            "Generation 3: 1768 , Total time: 29 hours 28 minutes\n",
            "Generation 4: 1768 , Total time: 29 hours 28 minutes\n"
          ]
        },
        {
          "output_type": "execute_result",
          "data": {
            "text/plain": [
              "array([ 2,  5,  3,  1,  4,  0,  6,  9, 10,  7,  8, 11])"
            ]
          },
          "metadata": {},
          "execution_count": 148
        }
      ]
    },
    {
      "cell_type": "code",
      "source": [
        "best, history = genetic_algorithm(cities,adjacency_mat_time,n_iter=5,\n",
        "verbose=False,print_interval=1,return_history=True,)\n",
        "plt.plot(range(len(history)), history, color=\"skyblue\")\n",
        "plt.show()\n",
        "print(best)\n",
        "print(f\"Best path found: {[name_cities[i] for i in best]}\")"
      ],
      "metadata": {
        "id": "eiHfHrnMNzpC",
        "colab": {
          "base_uri": "https://localhost:8080/",
          "height": 590
        },
        "outputId": "5692387d-3e23-4177-e33a-57aaf0167188"
      },
      "execution_count": null,
      "outputs": [
        {
          "output_type": "stream",
          "name": "stdout",
          "text": [
            "Generation 0: 1768 , Total time: 29 hours 28 minutes\n",
            "Generation 1: 1702 , Total time: 28 hours 22 minutes\n",
            "Generation 2: 1702 , Total time: 28 hours 22 minutes\n",
            "Generation 3: 1352 , Total time: 22 hours 32 minutes\n",
            "Generation 4: 1352 , Total time: 22 hours 32 minutes\n"
          ]
        },
        {
          "output_type": "display_data",
          "data": {
            "text/plain": [
              "<Figure size 800x550 with 1 Axes>"
            ],
            "image/svg+xml": "<?xml version=\"1.0\" encoding=\"utf-8\" standalone=\"no\"?>\n<!DOCTYPE svg PUBLIC \"-//W3C//DTD SVG 1.1//EN\"\n  \"http://www.w3.org/Graphics/SVG/1.1/DTD/svg11.dtd\">\n<svg xmlns:xlink=\"http://www.w3.org/1999/xlink\" width=\"490.04375pt\" height=\"335.641875pt\" viewBox=\"0 0 490.04375 335.641875\" xmlns=\"http://www.w3.org/2000/svg\" version=\"1.1\">\n <metadata>\n  <rdf:RDF xmlns:dc=\"http://purl.org/dc/elements/1.1/\" xmlns:cc=\"http://creativecommons.org/ns#\" xmlns:rdf=\"http://www.w3.org/1999/02/22-rdf-syntax-ns#\">\n   <cc:Work>\n    <dc:type rdf:resource=\"http://purl.org/dc/dcmitype/StillImage\"/>\n    <dc:date>2023-05-07T20:32:58.393496</dc:date>\n    <dc:format>image/svg+xml</dc:format>\n    <dc:creator>\n     <cc:Agent>\n      <dc:title>Matplotlib v3.7.1, https://matplotlib.org/</dc:title>\n     </cc:Agent>\n    </dc:creator>\n   </cc:Work>\n  </rdf:RDF>\n </metadata>\n <defs>\n  <style type=\"text/css\">*{stroke-linejoin: round; stroke-linecap: butt}</style>\n </defs>\n <g id=\"figure_1\">\n  <g id=\"patch_1\">\n   <path d=\"M 0 335.641875 \nL 490.04375 335.641875 \nL 490.04375 0 \nL 0 0 \nz\n\" style=\"fill: #ffffff\"/>\n  </g>\n  <g id=\"axes_1\">\n   <g id=\"patch_2\">\n    <path d=\"M 36.44375 312.12 \nL 482.84375 312.12 \nL 482.84375 7.2 \nL 36.44375 7.2 \nz\n\" style=\"fill: #eaeaf2\"/>\n   </g>\n   <g id=\"matplotlib.axis_1\">\n    <g id=\"xtick_1\">\n     <g id=\"line2d_1\">\n      <path d=\"M 56.734659 312.12 \nL 56.734659 7.2 \n\" clip-path=\"url(#p59c5f634cf)\" style=\"fill: none; stroke: #ffffff; stroke-linecap: round\"/>\n     </g>\n     <g id=\"line2d_2\"/>\n     <g id=\"text_1\">\n      <!-- 0.0 -->\n      <g style=\"fill: #262626\" transform=\"translate(49.784659 326.366875) scale(0.1 -0.1)\">\n       <defs>\n        <path id=\"LiberationSans-30\" d=\"M 3309 2203 \nQ 3309 1569 3189 1136 \nQ 3069 703 2861 436 \nQ 2653 169 2372 53 \nQ 2091 -63 1772 -63 \nQ 1450 -63 1172 53 \nQ 894 169 689 434 \nQ 484 700 367 1133 \nQ 250 1566 250 2203 \nQ 250 2869 367 3305 \nQ 484 3741 690 4000 \nQ 897 4259 1178 4364 \nQ 1459 4469 1791 4469 \nQ 2106 4469 2382 4364 \nQ 2659 4259 2865 4000 \nQ 3072 3741 3190 3305 \nQ 3309 2869 3309 2203 \nz\nM 2738 2203 \nQ 2738 2728 2675 3076 \nQ 2613 3425 2491 3633 \nQ 2369 3841 2192 3927 \nQ 2016 4013 1791 4013 \nQ 1553 4013 1372 3925 \nQ 1191 3838 1067 3630 \nQ 944 3422 881 3073 \nQ 819 2725 819 2203 \nQ 819 1697 883 1350 \nQ 947 1003 1070 792 \nQ 1194 581 1372 489 \nQ 1550 397 1778 397 \nQ 2000 397 2178 489 \nQ 2356 581 2479 792 \nQ 2603 1003 2670 1350 \nQ 2738 1697 2738 2203 \nz\n\" transform=\"scale(0.015625)\"/>\n        <path id=\"LiberationSans-2e\" d=\"M 584 0 \nL 584 684 \nL 1194 684 \nL 1194 0 \nL 584 0 \nz\n\" transform=\"scale(0.015625)\"/>\n       </defs>\n       <use xlink:href=\"#LiberationSans-30\"/>\n       <use xlink:href=\"#LiberationSans-2e\" x=\"55.615234\"/>\n       <use xlink:href=\"#LiberationSans-30\" x=\"83.398438\"/>\n      </g>\n     </g>\n    </g>\n    <g id=\"xtick_2\">\n     <g id=\"line2d_3\">\n      <path d=\"M 107.461932 312.12 \nL 107.461932 7.2 \n\" clip-path=\"url(#p59c5f634cf)\" style=\"fill: none; stroke: #ffffff; stroke-linecap: round\"/>\n     </g>\n     <g id=\"line2d_4\"/>\n     <g id=\"text_2\">\n      <!-- 0.5 -->\n      <g style=\"fill: #262626\" transform=\"translate(100.511932 326.366875) scale(0.1 -0.1)\">\n       <defs>\n        <path id=\"LiberationSans-35\" d=\"M 3291 1434 \nQ 3291 1103 3191 828 \nQ 3091 553 2894 354 \nQ 2697 156 2405 46 \nQ 2113 -63 1728 -63 \nQ 1381 -63 1123 18 \nQ 866 100 687 242 \nQ 509 384 404 575 \nQ 300 766 256 984 \nL 825 1050 \nQ 859 925 921 808 \nQ 984 691 1092 598 \nQ 1200 506 1358 451 \nQ 1516 397 1741 397 \nQ 1959 397 2137 464 \nQ 2316 531 2442 662 \nQ 2569 794 2637 984 \nQ 2706 1175 2706 1422 \nQ 2706 1625 2640 1795 \nQ 2575 1966 2453 2089 \nQ 2331 2213 2154 2281 \nQ 1978 2350 1753 2350 \nQ 1613 2350 1494 2325 \nQ 1375 2300 1273 2256 \nQ 1172 2213 1089 2155 \nQ 1006 2097 934 2034 \nL 384 2034 \nL 531 4403 \nL 3034 4403 \nL 3034 3925 \nL 1044 3925 \nL 959 2528 \nQ 1109 2644 1334 2726 \nQ 1559 2809 1869 2809 \nQ 2197 2809 2459 2709 \nQ 2722 2609 2906 2426 \nQ 3091 2244 3191 1991 \nQ 3291 1738 3291 1434 \nz\n\" transform=\"scale(0.015625)\"/>\n       </defs>\n       <use xlink:href=\"#LiberationSans-30\"/>\n       <use xlink:href=\"#LiberationSans-2e\" x=\"55.615234\"/>\n       <use xlink:href=\"#LiberationSans-35\" x=\"83.398438\"/>\n      </g>\n     </g>\n    </g>\n    <g id=\"xtick_3\">\n     <g id=\"line2d_5\">\n      <path d=\"M 158.189205 312.12 \nL 158.189205 7.2 \n\" clip-path=\"url(#p59c5f634cf)\" style=\"fill: none; stroke: #ffffff; stroke-linecap: round\"/>\n     </g>\n     <g id=\"line2d_6\"/>\n     <g id=\"text_3\">\n      <!-- 1.0 -->\n      <g style=\"fill: #262626\" transform=\"translate(151.239205 326.366875) scale(0.1 -0.1)\">\n       <defs>\n        <path id=\"LiberationSans-31\" d=\"M 488 0 \nL 488 478 \nL 1609 478 \nL 1609 3866 \nL 616 3156 \nL 616 3688 \nL 1656 4403 \nL 2175 4403 \nL 2175 478 \nL 3247 478 \nL 3247 0 \nL 488 0 \nz\n\" transform=\"scale(0.015625)\"/>\n       </defs>\n       <use xlink:href=\"#LiberationSans-31\"/>\n       <use xlink:href=\"#LiberationSans-2e\" x=\"55.615234\"/>\n       <use xlink:href=\"#LiberationSans-30\" x=\"83.398438\"/>\n      </g>\n     </g>\n    </g>\n    <g id=\"xtick_4\">\n     <g id=\"line2d_7\">\n      <path d=\"M 208.916477 312.12 \nL 208.916477 7.2 \n\" clip-path=\"url(#p59c5f634cf)\" style=\"fill: none; stroke: #ffffff; stroke-linecap: round\"/>\n     </g>\n     <g id=\"line2d_8\"/>\n     <g id=\"text_4\">\n      <!-- 1.5 -->\n      <g style=\"fill: #262626\" transform=\"translate(201.966477 326.366875) scale(0.1 -0.1)\">\n       <use xlink:href=\"#LiberationSans-31\"/>\n       <use xlink:href=\"#LiberationSans-2e\" x=\"55.615234\"/>\n       <use xlink:href=\"#LiberationSans-35\" x=\"83.398438\"/>\n      </g>\n     </g>\n    </g>\n    <g id=\"xtick_5\">\n     <g id=\"line2d_9\">\n      <path d=\"M 259.64375 312.12 \nL 259.64375 7.2 \n\" clip-path=\"url(#p59c5f634cf)\" style=\"fill: none; stroke: #ffffff; stroke-linecap: round\"/>\n     </g>\n     <g id=\"line2d_10\"/>\n     <g id=\"text_5\">\n      <!-- 2.0 -->\n      <g style=\"fill: #262626\" transform=\"translate(252.69375 326.366875) scale(0.1 -0.1)\">\n       <defs>\n        <path id=\"LiberationSans-32\" d=\"M 322 0 \nL 322 397 \nQ 481 763 711 1042 \nQ 941 1322 1194 1548 \nQ 1447 1775 1695 1969 \nQ 1944 2163 2144 2356 \nQ 2344 2550 2467 2762 \nQ 2591 2975 2591 3244 \nQ 2591 3431 2534 3573 \nQ 2478 3716 2372 3812 \nQ 2266 3909 2117 3957 \nQ 1969 4006 1788 4006 \nQ 1619 4006 1470 3959 \nQ 1322 3913 1206 3819 \nQ 1091 3725 1017 3586 \nQ 944 3447 922 3263 \nL 347 3316 \nQ 375 3553 478 3762 \nQ 581 3972 762 4130 \nQ 944 4288 1198 4378 \nQ 1453 4469 1788 4469 \nQ 2116 4469 2372 4391 \nQ 2628 4313 2804 4159 \nQ 2981 4006 3075 3781 \nQ 3169 3556 3169 3263 \nQ 3169 3041 3089 2841 \nQ 3009 2641 2876 2459 \nQ 2744 2278 2569 2109 \nQ 2394 1941 2203 1780 \nQ 2013 1619 1819 1461 \nQ 1625 1303 1454 1143 \nQ 1284 984 1150 820 \nQ 1016 656 941 478 \nL 3238 478 \nL 3238 0 \nL 322 0 \nz\n\" transform=\"scale(0.015625)\"/>\n       </defs>\n       <use xlink:href=\"#LiberationSans-32\"/>\n       <use xlink:href=\"#LiberationSans-2e\" x=\"55.615234\"/>\n       <use xlink:href=\"#LiberationSans-30\" x=\"83.398438\"/>\n      </g>\n     </g>\n    </g>\n    <g id=\"xtick_6\">\n     <g id=\"line2d_11\">\n      <path d=\"M 310.371023 312.12 \nL 310.371023 7.2 \n\" clip-path=\"url(#p59c5f634cf)\" style=\"fill: none; stroke: #ffffff; stroke-linecap: round\"/>\n     </g>\n     <g id=\"line2d_12\"/>\n     <g id=\"text_6\">\n      <!-- 2.5 -->\n      <g style=\"fill: #262626\" transform=\"translate(303.421023 326.366875) scale(0.1 -0.1)\">\n       <use xlink:href=\"#LiberationSans-32\"/>\n       <use xlink:href=\"#LiberationSans-2e\" x=\"55.615234\"/>\n       <use xlink:href=\"#LiberationSans-35\" x=\"83.398438\"/>\n      </g>\n     </g>\n    </g>\n    <g id=\"xtick_7\">\n     <g id=\"line2d_13\">\n      <path d=\"M 361.098295 312.12 \nL 361.098295 7.2 \n\" clip-path=\"url(#p59c5f634cf)\" style=\"fill: none; stroke: #ffffff; stroke-linecap: round\"/>\n     </g>\n     <g id=\"line2d_14\"/>\n     <g id=\"text_7\">\n      <!-- 3.0 -->\n      <g style=\"fill: #262626\" transform=\"translate(354.148295 326.366875) scale(0.1 -0.1)\">\n       <defs>\n        <path id=\"LiberationSans-33\" d=\"M 3278 1216 \nQ 3278 913 3179 675 \nQ 3081 438 2892 273 \nQ 2703 109 2423 23 \nQ 2144 -63 1784 -63 \nQ 1375 -63 1095 39 \nQ 816 141 634 308 \nQ 453 475 362 689 \nQ 272 903 244 1131 \nL 825 1184 \nQ 850 1009 917 865 \nQ 984 722 1100 619 \nQ 1216 516 1384 459 \nQ 1553 403 1784 403 \nQ 2209 403 2451 612 \nQ 2694 822 2694 1234 \nQ 2694 1478 2586 1626 \nQ 2478 1775 2317 1858 \nQ 2156 1941 1967 1969 \nQ 1778 1997 1619 1997 \nL 1300 1997 \nL 1300 2484 \nL 1606 2484 \nQ 1766 2484 1937 2517 \nQ 2109 2550 2251 2636 \nQ 2394 2722 2486 2869 \nQ 2578 3016 2578 3244 \nQ 2578 3597 2370 3801 \nQ 2163 4006 1753 4006 \nQ 1381 4006 1151 3815 \nQ 922 3625 884 3278 \nL 319 3322 \nQ 353 3613 478 3828 \nQ 603 4044 795 4186 \nQ 988 4328 1234 4398 \nQ 1481 4469 1759 4469 \nQ 2128 4469 2393 4376 \nQ 2659 4284 2828 4126 \nQ 2997 3969 3076 3756 \nQ 3156 3544 3156 3303 \nQ 3156 3109 3103 2940 \nQ 3050 2772 2937 2637 \nQ 2825 2503 2651 2406 \nQ 2478 2309 2234 2259 \nL 2234 2247 \nQ 2500 2219 2697 2126 \nQ 2894 2034 3022 1896 \nQ 3150 1759 3214 1584 \nQ 3278 1409 3278 1216 \nz\n\" transform=\"scale(0.015625)\"/>\n       </defs>\n       <use xlink:href=\"#LiberationSans-33\"/>\n       <use xlink:href=\"#LiberationSans-2e\" x=\"55.615234\"/>\n       <use xlink:href=\"#LiberationSans-30\" x=\"83.398438\"/>\n      </g>\n     </g>\n    </g>\n    <g id=\"xtick_8\">\n     <g id=\"line2d_15\">\n      <path d=\"M 411.825568 312.12 \nL 411.825568 7.2 \n\" clip-path=\"url(#p59c5f634cf)\" style=\"fill: none; stroke: #ffffff; stroke-linecap: round\"/>\n     </g>\n     <g id=\"line2d_16\"/>\n     <g id=\"text_8\">\n      <!-- 3.5 -->\n      <g style=\"fill: #262626\" transform=\"translate(404.875568 326.366875) scale(0.1 -0.1)\">\n       <use xlink:href=\"#LiberationSans-33\"/>\n       <use xlink:href=\"#LiberationSans-2e\" x=\"55.615234\"/>\n       <use xlink:href=\"#LiberationSans-35\" x=\"83.398438\"/>\n      </g>\n     </g>\n    </g>\n    <g id=\"xtick_9\">\n     <g id=\"line2d_17\">\n      <path d=\"M 462.552841 312.12 \nL 462.552841 7.2 \n\" clip-path=\"url(#p59c5f634cf)\" style=\"fill: none; stroke: #ffffff; stroke-linecap: round\"/>\n     </g>\n     <g id=\"line2d_18\"/>\n     <g id=\"text_9\">\n      <!-- 4.0 -->\n      <g style=\"fill: #262626\" transform=\"translate(455.602841 326.366875) scale(0.1 -0.1)\">\n       <defs>\n        <path id=\"LiberationSans-34\" d=\"M 2753 997 \nL 2753 0 \nL 2222 0 \nL 2222 997 \nL 147 997 \nL 147 1434 \nL 2163 4403 \nL 2753 4403 \nL 2753 1441 \nL 3372 1441 \nL 3372 997 \nL 2753 997 \nz\nM 2222 3769 \nQ 2216 3753 2191 3708 \nQ 2166 3663 2134 3606 \nQ 2103 3550 2070 3492 \nQ 2038 3434 2013 3397 \nL 884 1734 \nQ 869 1709 839 1668 \nQ 809 1628 778 1586 \nQ 747 1544 715 1503 \nQ 684 1463 666 1441 \nL 2222 1441 \nL 2222 3769 \nz\n\" transform=\"scale(0.015625)\"/>\n       </defs>\n       <use xlink:href=\"#LiberationSans-34\"/>\n       <use xlink:href=\"#LiberationSans-2e\" x=\"55.615234\"/>\n       <use xlink:href=\"#LiberationSans-30\" x=\"83.398438\"/>\n      </g>\n     </g>\n    </g>\n   </g>\n   <g id=\"matplotlib.axis_2\">\n    <g id=\"ytick_1\">\n     <g id=\"line2d_19\">\n      <path d=\"M 36.44375 266.275385 \nL 482.84375 266.275385 \n\" clip-path=\"url(#p59c5f634cf)\" style=\"fill: none; stroke: #ffffff; stroke-linecap: round\"/>\n     </g>\n     <g id=\"line2d_20\"/>\n     <g id=\"text_10\">\n      <!-- 1400 -->\n      <g style=\"fill: #262626\" transform=\"translate(7.2 269.898822) scale(0.1 -0.1)\">\n       <use xlink:href=\"#LiberationSans-31\"/>\n       <use xlink:href=\"#LiberationSans-34\" x=\"55.615234\"/>\n       <use xlink:href=\"#LiberationSans-30\" x=\"111.230469\"/>\n       <use xlink:href=\"#LiberationSans-30\" x=\"166.845703\"/>\n      </g>\n     </g>\n    </g>\n    <g id=\"ytick_2\">\n     <g id=\"line2d_21\">\n      <path d=\"M 36.44375 199.640769 \nL 482.84375 199.640769 \n\" clip-path=\"url(#p59c5f634cf)\" style=\"fill: none; stroke: #ffffff; stroke-linecap: round\"/>\n     </g>\n     <g id=\"line2d_22\"/>\n     <g id=\"text_11\">\n      <!-- 1500 -->\n      <g style=\"fill: #262626\" transform=\"translate(7.2 203.264207) scale(0.1 -0.1)\">\n       <use xlink:href=\"#LiberationSans-31\"/>\n       <use xlink:href=\"#LiberationSans-35\" x=\"55.615234\"/>\n       <use xlink:href=\"#LiberationSans-30\" x=\"111.230469\"/>\n       <use xlink:href=\"#LiberationSans-30\" x=\"166.845703\"/>\n      </g>\n     </g>\n    </g>\n    <g id=\"ytick_3\">\n     <g id=\"line2d_23\">\n      <path d=\"M 36.44375 133.006154 \nL 482.84375 133.006154 \n\" clip-path=\"url(#p59c5f634cf)\" style=\"fill: none; stroke: #ffffff; stroke-linecap: round\"/>\n     </g>\n     <g id=\"line2d_24\"/>\n     <g id=\"text_12\">\n      <!-- 1600 -->\n      <g style=\"fill: #262626\" transform=\"translate(7.2 136.629591) scale(0.1 -0.1)\">\n       <defs>\n        <path id=\"LiberationSans-36\" d=\"M 3278 1441 \nQ 3278 1109 3186 832 \nQ 3094 556 2914 357 \nQ 2734 159 2468 48 \nQ 2203 -63 1856 -63 \nQ 1472 -63 1184 84 \nQ 897 231 706 507 \nQ 516 784 420 1186 \nQ 325 1588 325 2100 \nQ 325 2688 433 3131 \nQ 541 3575 744 3872 \nQ 947 4169 1239 4319 \nQ 1531 4469 1900 4469 \nQ 2125 4469 2322 4422 \nQ 2519 4375 2680 4270 \nQ 2841 4166 2962 3994 \nQ 3084 3822 3156 3572 \nL 2619 3475 \nQ 2531 3759 2339 3886 \nQ 2147 4013 1894 4013 \nQ 1663 4013 1475 3903 \nQ 1288 3794 1156 3576 \nQ 1025 3359 954 3031 \nQ 884 2703 884 2266 \nQ 1038 2550 1316 2698 \nQ 1594 2847 1953 2847 \nQ 2253 2847 2497 2750 \nQ 2741 2653 2914 2470 \nQ 3088 2288 3183 2027 \nQ 3278 1766 3278 1441 \nz\nM 2706 1416 \nQ 2706 1644 2650 1828 \nQ 2594 2013 2481 2142 \nQ 2369 2272 2203 2342 \nQ 2038 2413 1819 2413 \nQ 1666 2413 1509 2367 \nQ 1353 2322 1226 2220 \nQ 1100 2119 1020 1953 \nQ 941 1788 941 1550 \nQ 941 1306 1003 1095 \nQ 1066 884 1183 728 \nQ 1300 572 1465 481 \nQ 1631 391 1838 391 \nQ 2041 391 2202 461 \nQ 2363 531 2475 664 \nQ 2588 797 2647 987 \nQ 2706 1178 2706 1416 \nz\n\" transform=\"scale(0.015625)\"/>\n       </defs>\n       <use xlink:href=\"#LiberationSans-31\"/>\n       <use xlink:href=\"#LiberationSans-36\" x=\"55.615234\"/>\n       <use xlink:href=\"#LiberationSans-30\" x=\"111.230469\"/>\n       <use xlink:href=\"#LiberationSans-30\" x=\"166.845703\"/>\n      </g>\n     </g>\n    </g>\n    <g id=\"ytick_4\">\n     <g id=\"line2d_25\">\n      <path d=\"M 36.44375 66.371538 \nL 482.84375 66.371538 \n\" clip-path=\"url(#p59c5f634cf)\" style=\"fill: none; stroke: #ffffff; stroke-linecap: round\"/>\n     </g>\n     <g id=\"line2d_26\"/>\n     <g id=\"text_13\">\n      <!-- 1700 -->\n      <g style=\"fill: #262626\" transform=\"translate(7.2 69.994976) scale(0.1 -0.1)\">\n       <defs>\n        <path id=\"LiberationSans-37\" d=\"M 3238 3947 \nQ 2906 3441 2628 2973 \nQ 2350 2506 2150 2032 \nQ 1950 1559 1839 1061 \nQ 1728 563 1728 0 \nL 1141 0 \nQ 1141 528 1266 1036 \nQ 1391 1544 1603 2033 \nQ 1816 2522 2097 2994 \nQ 2378 3466 2694 3925 \nL 328 3925 \nL 328 4403 \nL 3238 4403 \nL 3238 3947 \nz\n\" transform=\"scale(0.015625)\"/>\n       </defs>\n       <use xlink:href=\"#LiberationSans-31\"/>\n       <use xlink:href=\"#LiberationSans-37\" x=\"55.615234\"/>\n       <use xlink:href=\"#LiberationSans-30\" x=\"111.230469\"/>\n       <use xlink:href=\"#LiberationSans-30\" x=\"166.845703\"/>\n      </g>\n     </g>\n    </g>\n   </g>\n   <g id=\"line2d_27\">\n    <path d=\"M 56.734659 21.06 \nL 158.189205 65.038846 \nL 259.64375 65.038846 \nL 361.098295 298.26 \nL 462.552841 298.26 \n\" clip-path=\"url(#p59c5f634cf)\" style=\"fill: none; stroke: #87ceeb; stroke-width: 1.75; stroke-linecap: round\"/>\n   </g>\n   <g id=\"patch_3\">\n    <path d=\"M 36.44375 312.12 \nL 36.44375 7.2 \n\" style=\"fill: none\"/>\n   </g>\n   <g id=\"patch_4\">\n    <path d=\"M 482.84375 312.12 \nL 482.84375 7.2 \n\" style=\"fill: none\"/>\n   </g>\n   <g id=\"patch_5\">\n    <path d=\"M 36.44375 312.12 \nL 482.84375 312.12 \n\" style=\"fill: none\"/>\n   </g>\n   <g id=\"patch_6\">\n    <path d=\"M 36.44375 7.2 \nL 482.84375 7.2 \n\" style=\"fill: none\"/>\n   </g>\n  </g>\n </g>\n <defs>\n  <clipPath id=\"p59c5f634cf\">\n   <rect x=\"36.44375\" y=\"7.2\" width=\"446.4\" height=\"304.92\"/>\n  </clipPath>\n </defs>\n</svg>\n"
          },
          "metadata": {}
        },
        {
          "output_type": "stream",
          "name": "stdout",
          "text": [
            "[10, 11, 3, 1, 4, 0, 6, 9, 2, 7, 8, 5]\n",
            "Best path found: ['BARCELONA', 'ROME', 'COLOGNE', 'AMSTERDAN', 'BRUSSELS', 'LONDON', 'PARIS', 'MADRID', 'BERLIN', 'LYON', 'MILAN', 'FRANKFURT']\n"
          ]
        }
      ]
    }
  ]
}